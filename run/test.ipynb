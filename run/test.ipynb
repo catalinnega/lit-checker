{
 "cells": [
  {
   "cell_type": "code",
   "execution_count": 144,
   "metadata": {},
   "outputs": [],
   "source": [
    "import cv2\n",
    "import numpy as np"
   ]
  },
  {
   "cell_type": "code",
   "execution_count": 145,
   "metadata": {},
   "outputs": [],
   "source": [
    "current_image_path = '/workspaces/lit-checker/out_test/foreground/test_current.jpg'\n",
    "background_image_path = '/workspaces/lit-checker/out_test/background.jpg'\n",
    "add_image_path = '/workspaces/lit-checker/out_test/foreground/test_add.jpg'"
   ]
  },
  {
   "cell_type": "code",
   "execution_count": 146,
   "metadata": {},
   "outputs": [],
   "source": [
    "current_frame = cv2.imread(current_image_path)\n",
    "background_frame = cv2.imread(background_image_path)\n",
    "add_frame = cv2.imread(add_image_path)"
   ]
  },
  {
   "cell_type": "code",
   "execution_count": 147,
   "metadata": {},
   "outputs": [
    {
     "data": {
      "text/plain": [
       "array([[127, 127, 127, ..., 127, 127, 127],\n",
       "       [127, 127, 127, ..., 127, 127, 127],\n",
       "       [127, 127, 127, ..., 127, 127, 127],\n",
       "       ...,\n",
       "       [127, 127, 127, ..., 127, 127, 127],\n",
       "       [127, 127, 127, ..., 127, 127, 127],\n",
       "       [127, 127, 127, ..., 127, 127, 127]], dtype=uint8)"
      ]
     },
     "execution_count": 147,
     "metadata": {},
     "output_type": "execute_result"
    }
   ],
   "source": [
    "background_subtractor = cv2.createBackgroundSubtractorMOG2() #createBackgroundSubtractorKNN()\n",
    "background_subtractor.apply(background_frame, learningRate=1.0)  # learningRate=1.0 to fully update the model with this frame\n"
   ]
  },
  {
   "cell_type": "code",
   "execution_count": 148,
   "metadata": {},
   "outputs": [],
   "source": [
    "foreground_mask = background_subtractor.apply(current_frame.copy(), learningRate=0.0)\n",
    "\n",
    "# background_gray = cv2.cvtColor(background_frame, cv2.COLOR_BGR2GRAY)\n",
    "# new_object_gray = cv2.cvtColor(current_frame, cv2.COLOR_BGR2GRAY)\n",
    "# foreground_mask = cv2.absdiff(background_gray, new_object_gray)\n",
    "\n",
    "_, binary_mask = cv2.threshold(foreground_mask, 50, 255, cv2.THRESH_BINARY)\n",
    "\n",
    "kernel = np.ones((5, 5), np.uint8)\n",
    "clean_mask = cv2.morphologyEx(binary_mask, cv2.MORPH_CLOSE, kernel)\n",
    "clean_mask2 = cv2.morphologyEx(clean_mask.copy(), cv2.MORPH_OPEN, kernel)"
   ]
  },
  {
   "cell_type": "code",
   "execution_count": 149,
   "metadata": {},
   "outputs": [
    {
     "data": {
      "text/plain": [
       "True"
      ]
     },
     "execution_count": 149,
     "metadata": {},
     "output_type": "execute_result"
    }
   ],
   "source": [
    "cv2.imwrite('current.jpg', current_frame)\n",
    "cv2.imwrite('foreground_mask.jpg', foreground_mask)\n",
    "cv2.imwrite('background_frame.jpg', background_frame)\n",
    "cv2.imwrite('binary_mask.jpg', binary_mask)\n",
    "cv2.imwrite('clean_mask.jpg', clean_mask)\n",
    "cv2.imwrite('clean_mask2.jpg', clean_mask2)"
   ]
  },
  {
   "cell_type": "code",
   "execution_count": 150,
   "metadata": {},
   "outputs": [],
   "source": [
    "contours, _ = cv2.findContours(\n",
    "            clean_mask2, cv2.RETR_EXTERNAL, cv2.CHAIN_APPROX_SIMPLE)"
   ]
  },
  {
   "cell_type": "code",
   "execution_count": 151,
   "metadata": {},
   "outputs": [
    {
     "data": {
      "text/plain": [
       "True"
      ]
     },
     "execution_count": 151,
     "metadata": {},
     "output_type": "execute_result"
    }
   ],
   "source": [
    "frame_copy = current_frame.copy() \n",
    "cv2.drawContours(frame_copy, contours, -1, (0, 255, 0), 2)\n",
    "cv2.imwrite('frame_copy.jpg', frame_copy)"
   ]
  },
  {
   "cell_type": "code",
   "execution_count": 152,
   "metadata": {},
   "outputs": [],
   "source": [
    "# contours_log = sorted(\n",
    "#                 contours, key=cv2.contourArea, reverse=True)[:5]\n",
    "# contours_log[0]"
   ]
  },
  {
   "cell_type": "code",
   "execution_count": 153,
   "metadata": {},
   "outputs": [],
   "source": [
    "# foreground_frame_copy = foreground_mask.copy()\n",
    "# cv2.drawContours(foreground_frame_copy,\n",
    "#                                  contours_log, -1, (0, 255, 0), 3)\n",
    "# cv2.imwrite('contours.jpg', foreground_frame_copy)"
   ]
  }
 ],
 "metadata": {
  "kernelspec": {
   "display_name": "lit-checker-IQxKCLBw-py3.11",
   "language": "python",
   "name": "python3"
  },
  "language_info": {
   "codemirror_mode": {
    "name": "ipython",
    "version": 3
   },
   "file_extension": ".py",
   "mimetype": "text/x-python",
   "name": "python",
   "nbconvert_exporter": "python",
   "pygments_lexer": "ipython3",
   "version": "3.11.9"
  }
 },
 "nbformat": 4,
 "nbformat_minor": 2
}
