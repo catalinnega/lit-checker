{
 "cells": [
  {
   "cell_type": "code",
   "execution_count": 8,
   "metadata": {},
   "outputs": [],
   "source": [
    "\n",
    "import json\n"
   ]
  },
  {
   "cell_type": "code",
   "execution_count": null,
   "metadata": {},
   "outputs": [],
   "source": [
    "from dataclasses import dataclass, field\n",
    "\n",
    "@dataclass\n",
    "class AnnotationConfig:\n",
    "    annotation_directory: str = "
   ]
  },
  {
   "cell_type": "code",
   "execution_count": null,
   "metadata": {},
   "outputs": [],
   "source": [
    "class ConvertAnnotationFormat:\n",
    "    def __init__(self, annotation_config: AnnotationConfig)"
   ]
  },
  {
   "cell_type": "code",
   "execution_count": 9,
   "metadata": {},
   "outputs": [],
   "source": [
    "\n",
    "\n",
    "def convert_coor(size, xy):\n",
    "    dw, dh = size\n",
    "    x, y = xy\n",
    "    return x / dw, y / dh\n",
    "\n",
    "def convert(file, names, txt_name=None):\n",
    "    if txt_name is None:\n",
    "        txt_name = file.rstrip(\".json\") + \".txt\"\n",
    "\n",
    "    with open(file, \"r\") as txt_file:\n",
    "        js = json.loads(txt_file.read())\n",
    "\n",
    "        with open(txt_name, \"w\") as txt_outfile:\n",
    "            for item in js[\"shapes\"]:\n",
    "                label = item[\"label\"]\n",
    "                cls = [str(i) for i, name in enumerate(names) if label == name][0]\n",
    "\n",
    "                height, width = js[\"imageHeight\"], js[\"imageWidth\"]\n",
    "\n",
    "                for idx, pt in enumerate(item[\"points\"]):\n",
    "                    if idx == 0:\n",
    "                        txt_outfile.write(cls)\n",
    "                    x, y = pt\n",
    "                    bb = convert_coor((width, height), [x, y])\n",
    "                    txt_outfile.write(\" \" + \" \".join([str(a) for a in bb]))\n",
    "\n",
    "                txt_outfile.write(\"\\n\")\n",
    "\n"
   ]
  },
  {
   "cell_type": "code",
   "execution_count": 10,
   "metadata": {},
   "outputs": [],
   "source": [
    "path = '/workspaces/lit-checker/out_test/labeled_data/00000000.json'\n",
    "names = ['eu']\n",
    "convert(path, names)"
   ]
  }
 ],
 "metadata": {
  "kernelspec": {
   "display_name": "lit-checker-IQxKCLBw-py3.11",
   "language": "python",
   "name": "python3"
  },
  "language_info": {
   "codemirror_mode": {
    "name": "ipython",
    "version": 3
   },
   "file_extension": ".py",
   "mimetype": "text/x-python",
   "name": "python",
   "nbconvert_exporter": "python",
   "pygments_lexer": "ipython3",
   "version": "3.11.9"
  }
 },
 "nbformat": 4,
 "nbformat_minor": 2
}
